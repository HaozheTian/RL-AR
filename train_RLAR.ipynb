{
 "cells": [
  {
   "cell_type": "code",
   "execution_count": 1,
   "metadata": {},
   "outputs": [],
   "source": [
    "from envs import BiGlucose, Glucose, CSTR, CartPole\n",
    "from core.agents import RLAR"
   ]
  },
  {
   "cell_type": "code",
   "execution_count": 2,
   "metadata": {},
   "outputs": [
    {
     "name": "stdout",
     "output_type": "stream",
     "text": [
      "n:   Model = 0.28  |  Plant = 0.20\n",
      "p2:   Model = 0.01  |  Plant = 0.01\n",
      "p3:   Model = 0.00  |  Plant = 0.00\n",
      "--------------------\n",
      "RLAR on Glucose\n",
      "Runing on cuda\n",
      "Training from scratch\n",
      "Pretrained beta checkpoint loaded from saved/beta_Glucose_thresh_1e-08.pt\n"
     ]
    },
    {
     "name": "stderr",
     "output_type": "stream",
     "text": [
      "100%|██████████| 30000/30000 [26:18<00:00, 19.01it/s]"
     ]
    },
    {
     "name": "stdout",
     "output_type": "stream",
     "text": [
      "Checkpoint saved to saved/RLAR_Glucose_09_30_2024_16_32.pt\n"
     ]
    },
    {
     "name": "stderr",
     "output_type": "stream",
     "text": [
      "\n"
     ]
    }
   ],
   "source": [
    "alt = {'n': 0.2, 'p2': 0.005,  'p3': 5e-6}\n",
    "\n",
    "env = Glucose(altered_paras=alt)\n",
    "hyperparameters = {\n",
    "    \"total_timesteps\": 30000\n",
    "}\n",
    "agent = RLAR(env=env,\n",
    "            hyperparameters=hyperparameters,\n",
    "            seed=3,\n",
    "            use_tb=True)\n",
    "agent.learn()\n",
    "agent.save_ckpt()"
   ]
  },
  {
   "cell_type": "code",
   "execution_count": 3,
   "metadata": {},
   "outputs": [
    {
     "name": "stdout",
     "output_type": "stream",
     "text": [
      "D_G:   Model = 80.00  |  Plant = 80.00\n",
      "V_G:   Model = 0.14  |  Plant = 0.18\n",
      "k_12:   Model = 0.10  |  Plant = 0.03\n",
      "F_01:   Model = 0.01  |  Plant = 0.01\n",
      "EGP_0:   Model = 0.02  |  Plant = 0.01\n",
      "A_g:   Model = 0.80  |  Plant = 0.80\n",
      "t_maxG:   Model = 40.00  |  Plant = 40.00\n",
      "t_maxI:   Model = 55.00  |  Plant = 55.00\n",
      "V_I:   Model = 0.12  |  Plant = 0.12\n",
      "k_e:   Model = 0.14  |  Plant = 0.14\n",
      "k_a1:   Model = 0.01  |  Plant = 0.00\n",
      "k_a2:   Model = 0.03  |  Plant = 0.08\n",
      "k_a3:   Model = 0.01  |  Plant = 0.05\n",
      "k_b1:   Model = 0.00  |  Plant = 0.00\n",
      "k_b2:   Model = 0.00  |  Plant = 0.00\n",
      "k_b3:   Model = 0.00  |  Plant = 0.00\n",
      "t_maxN:   Model = 20.59  |  Plant = 32.46\n",
      "k_N:   Model = 0.73  |  Plant = 0.62\n",
      "V_N:   Model = 23.46  |  Plant = 16.06\n",
      "p:   Model = 0.07  |  Plant = 0.02\n",
      "S_N:   Model = 19800.00  |  Plant = 19600.00\n",
      "M_g:   Model = 180.16  |  Plant = 180.16\n",
      "BW:   Model = 68.50  |  Plant = 68.50\n",
      "N_b:   Model = 48.13  |  Plant = 48.13\n",
      "dt:   Model = 10.00  |  Plant = 10.00\n",
      "--------------------\n",
      "RLAR on BiGlucose\n",
      "Runing on cuda\n",
      "Training from scratch\n",
      "Pretrained beta checkpoint loaded from saved/beta_BiGlucose_thresh_1e-08.pt\n"
     ]
    },
    {
     "name": "stderr",
     "output_type": "stream",
     "text": [
      "100%|██████████| 30000/30000 [55:08<00:00,  9.07it/s]   "
     ]
    },
    {
     "name": "stdout",
     "output_type": "stream",
     "text": [
      "Checkpoint saved to saved/RLAR_BiGlucose_09_30_2024_17_27.pt\n"
     ]
    },
    {
     "name": "stderr",
     "output_type": "stream",
     "text": [
      "\n"
     ]
    }
   ],
   "source": [
    "alt = {\n",
    "    \"D_G\": 80,       \"V_G\": 0.18,     \"k_12\": 0.0343, \"F_01\": 0.0121,    \"EGP_0\": 0.0148, \n",
    "    \"A_g\": 0.8,      \"t_maxG\": 40,    \"t_maxI\": 55,   \"V_I\": 0.12,       \"k_e\": 0.138, \n",
    "    \"k_a1\": 0.0031,  \"k_a2\": 0.0752,  \"k_a3\": 0.0472, \"k_b1\": 9.114e-06, \"k_b2\": 6.768e-06, \n",
    "    \"k_b3\": 0.00189, \"t_maxN\": 32.46, \"k_N\": 0.62,    \"V_N\": 16.06,      \"p\": 0.016, \n",
    "    \"S_N\": 19600.0,  \"M_g\": 180.16,   \"BW\": 68.5,     \"N_b\": 48.13,      \"dt\": 10\n",
    "}\n",
    "\n",
    "env = BiGlucose(altered_paras=alt)\n",
    "\n",
    "hyperparameters = {\n",
    "    \"total_timesteps\": 30000\n",
    "}\n",
    "agent = RLAR(env=env,\n",
    "            hyperparameters=hyperparameters,\n",
    "            seed=1,\n",
    "            use_tb=True)\n",
    "agent.learn()\n",
    "agent.save_ckpt()"
   ]
  },
  {
   "cell_type": "code",
   "execution_count": 4,
   "metadata": {},
   "outputs": [
    {
     "name": "stdout",
     "output_type": "stream",
     "text": [
      "alpha:   Model = 1.00  |  Plant = 1.05\n",
      "beta:   Model = 1.00  |  Plant = 1.10\n",
      "--------------------\n",
      "RLAR on CSTR\n",
      "Runing on cuda\n",
      "Training from scratch\n",
      "Pretrained beta checkpoint loaded from saved/beta_CSTR_thresh_1e-08.pt\n"
     ]
    },
    {
     "name": "stderr",
     "output_type": "stream",
     "text": [
      "  0%|          | 190/45000 [00:06<25:27, 29.34it/s]"
     ]
    },
    {
     "name": "stderr",
     "output_type": "stream",
     "text": [
      "100%|██████████| 45000/45000 [1:15:50<00:00,  9.89it/s]"
     ]
    },
    {
     "name": "stdout",
     "output_type": "stream",
     "text": [
      "Checkpoint saved to saved/RLAR_CSTR_09_30_2024_18_43.pt\n"
     ]
    },
    {
     "name": "stderr",
     "output_type": "stream",
     "text": [
      "\n"
     ]
    }
   ],
   "source": [
    "alt = {'alpha': 1.05, 'beta': 1.1}\n",
    "\n",
    "env = CSTR(altered_paras=alt)\n",
    "\n",
    "hyperparameters = {\n",
    "    \"total_timesteps\": 45000\n",
    "}\n",
    "agent = RLAR(env=env,\n",
    "            hyperparameters=hyperparameters,\n",
    "            seed=1,\n",
    "            use_tb=True)\n",
    "agent.learn()\n",
    "agent.save_ckpt()"
   ]
  },
  {
   "cell_type": "code",
   "execution_count": 5,
   "metadata": {},
   "outputs": [
    {
     "name": "stdout",
     "output_type": "stream",
     "text": [
      "masscart:   Model = 1.00  |  Plant = 0.80\n",
      "masspole:   Model = 0.10  |  Plant = 0.30\n",
      "length:   Model = 0.50  |  Plant = 0.60\n",
      "--------------------\n",
      "RLAR on CartPole\n",
      "Runing on cuda\n",
      "Training from scratch\n",
      "Pretrained beta checkpoint loaded from saved/beta_CartPole_thresh_1e-08.pt\n"
     ]
    },
    {
     "name": "stderr",
     "output_type": "stream",
     "text": [
      "  1%|▏         | 548/40000 [00:16<27:21, 24.04it/s]"
     ]
    },
    {
     "name": "stderr",
     "output_type": "stream",
     "text": [
      "100%|██████████| 40000/40000 [28:27<00:00, 23.43it/s]"
     ]
    },
    {
     "name": "stdout",
     "output_type": "stream",
     "text": [
      "Checkpoint saved to saved/RLAR_CartPole_09_30_2024_19_11.pt\n"
     ]
    },
    {
     "name": "stderr",
     "output_type": "stream",
     "text": [
      "\n"
     ]
    }
   ],
   "source": [
    "alt = {\"masscart\": 0.8, \"masspole\": 0.3, 'length': 0.6}\n",
    "\n",
    "env = CartPole(altered_paras=alt)\n",
    "\n",
    "hyperparameters = {\n",
    "    \"horizon\": 100,\n",
    "    \"total_timesteps\":   40000\n",
    "}\n",
    "agent = RLAR(env=env,\n",
    "            hyperparameters=hyperparameters,\n",
    "            seed=1,\n",
    "            use_tb=True)\n",
    "agent.learn()\n",
    "agent.save_ckpt()"
   ]
  }
 ],
 "metadata": {
  "kernelspec": {
   "display_name": "myenv",
   "language": "python",
   "name": "python3"
  },
  "language_info": {
   "codemirror_mode": {
    "name": "ipython",
    "version": 3
   },
   "file_extension": ".py",
   "mimetype": "text/x-python",
   "name": "python",
   "nbconvert_exporter": "python",
   "pygments_lexer": "ipython3",
   "version": "3.12.5"
  }
 },
 "nbformat": 4,
 "nbformat_minor": 2
}
