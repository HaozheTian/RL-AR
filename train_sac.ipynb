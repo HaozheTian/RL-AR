{
 "cells": [
  {
   "cell_type": "code",
   "execution_count": null,
   "metadata": {},
   "outputs": [],
   "source": [
    "from envs import BiGlucose, Glucose, CSTR, CartPole\n",
    "from core.agents import SAC\n",
    "import torch.utils.tensorboard"
   ]
  },
  {
   "cell_type": "code",
   "execution_count": null,
   "metadata": {},
   "outputs": [],
   "source": [
    "alt = {\n",
    "    \"D_G\": 80,       \"V_G\": 0.18,     \"k_12\": 0.0343, \"F_01\": 0.0121,    \"EGP_0\": 0.0148, \n",
    "    \"A_g\": 0.8,      \"t_maxG\": 40,    \"t_maxI\": 55,   \"V_I\": 0.12,       \"k_e\": 0.138, \n",
    "    \"k_a1\": 0.0031,  \"k_a2\": 0.0752,  \"k_a3\": 0.0472, \"k_b1\": 9.114e-06, \"k_b2\": 6.768e-06, \n",
    "    \"k_b3\": 0.00189, \"t_maxN\": 32.46, \"k_N\": 0.62,    \"V_N\": 16.06,      \"p\": 0.016, \n",
    "    \"S_N\": 19600.0,  \"M_g\": 180.16,   \"BW\": 68.5,     \"N_b\": 48.13,      \"dt\": 10\n",
    "}\n",
    "env = BiGlucose(altered_paras=alt)\n",
    "\n",
    "hyperparameters = {\n",
    "    \"total_timesteps\": 200000\n",
    "}\n",
    "agent = SAC(env=env, hyperparameters=hyperparameters, use_tb=True)\n",
    "agent.learn()"
   ]
  },
  {
   "cell_type": "code",
   "execution_count": null,
   "metadata": {},
   "outputs": [],
   "source": [
    "alt = {\"masscart\": 0.8, \"masspole\": 0.3, 'length': 0.6}\n",
    "env = CartPole(altered_paras=alt)\n",
    "\n",
    "hyperparameters = {\n",
    "    \"total_timesteps\": 200000\n",
    "}\n",
    "agent = SAC(env=env, hyperparameters=hyperparameters, use_tb=True, autosave=True)\n",
    "agent.learn()\n",
    "agent.save_ckpt()"
   ]
  },
  {
   "cell_type": "code",
   "execution_count": null,
   "metadata": {},
   "outputs": [],
   "source": [
    "alt = {'alpha': 1.05, 'beta': 1.1}\n",
    "env = CSTR(altered_paras=alt)\n",
    "\n",
    "hyperparameters = {\n",
    "    \"total_timesteps\": 200000\n",
    "}\n",
    "agent = SAC(env=env, hyperparameters=hyperparameters, use_tb=True, autosave=True)\n",
    "agent.learn()\n",
    "agent.save_ckpt()"
   ]
  },
  {
   "cell_type": "code",
   "execution_count": null,
   "metadata": {},
   "outputs": [],
   "source": [
    "alt = {'n': 0.2, 'p2': 0.005,  'p3': 5e-6}\n",
    "env = Glucose(altered_paras=alt)\n",
    "\n",
    "hyperparameters = {\n",
    "    \"total_timesteps\": 200000\n",
    "}\n",
    "agent = SAC(env=env, hyperparameters=hyperparameters, use_tb=True, autosave=True)\n",
    "agent.learn()\n",
    "agent.save_ckpt()"
   ]
  }
 ],
 "metadata": {
  "kernelspec": {
   "display_name": "myenv",
   "language": "python",
   "name": "python3"
  },
  "language_info": {
   "codemirror_mode": {
    "name": "ipython",
    "version": 3
   },
   "file_extension": ".py",
   "mimetype": "text/x-python",
   "name": "python",
   "nbconvert_exporter": "python",
   "pygments_lexer": "ipython3",
   "version": "3.9.18"
  }
 },
 "nbformat": 4,
 "nbformat_minor": 2
}
